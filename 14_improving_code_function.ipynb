{
 "cells": [
  {
   "cell_type": "code",
   "execution_count": 2,
   "id": "9ac29880",
   "metadata": {},
   "outputs": [],
   "source": [
    "import boto3\n",
    "import pandas as pd\n",
    "from io import StringIO, BytesIO\n",
    "from datetime import datetime, timedelta"
   ]
  },
  {
   "cell_type": "code",
   "execution_count": 3,
   "id": "88649e89-f756-4757-8501-99a374eb4e8c",
   "metadata": {},
   "outputs": [],
   "source": [
    "#Delete all objects in bucket\n",
    "s3 = boto3.resource('s3')\n",
    "bucket = s3.Bucket('ayush-5-oct-24')\n",
    "# Delete all objects in the bucket\n",
    "for obj in bucket.objects.all():\n",
    "    obj.delete()"
   ]
  },
  {
   "cell_type": "code",
   "execution_count": 4,
   "id": "68bf62c4",
   "metadata": {},
   "outputs": [],
   "source": [
    "arg_date = '2022-12-30'\n",
    "src_format = '%Y-%m-%d'\n",
    "src_bucket = 'xetra-1234'\n",
    "trg_bucket = 'ayush-5-oct-24'\n",
    "columns = ['ISIN', 'Date', 'Time', 'StartPrice', 'MaxPrice', 'MinPrice', 'EndPrice', 'TradedVolume']\n",
    "key_gen = 'Ayush_daily_report' + datetime.today().strftime(\"%Y%m%d_%H%M%S\") + '.parquet'"
   ]
  },
  {
   "cell_type": "code",
   "execution_count": 5,
   "id": "ab247f4a",
   "metadata": {},
   "outputs": [],
   "source": [
    "arg_date_dt = datetime.strptime(arg_date, src_format).date() - timedelta(days=1)"
   ]
  },
  {
   "cell_type": "code",
   "execution_count": 6,
   "id": "5f4c044a",
   "metadata": {},
   "outputs": [],
   "source": [
    "s3 = boto3.resource('s3')\n",
    "bucket = s3.Bucket(src_bucket)\n",
    "objects = [obj for obj in bucket.objects.all() if datetime.strptime(obj.key.split('/')[0], src_format).date() >= arg_date_dt]"
   ]
  },
  {
   "cell_type": "code",
   "execution_count": 7,
   "id": "df445316",
   "metadata": {},
   "outputs": [
    {
     "name": "stderr",
     "output_type": "stream",
     "text": [
      "C:\\Users\\DELL\\AppData\\Local\\Temp\\ipykernel_16932\\3669015963.py:6: FutureWarning: The behavior of DataFrame concatenation with empty or all-NA entries is deprecated. In a future version, this will no longer exclude empty or all-NA columns when determining the result dtypes. To retain the old behavior, exclude the relevant entries before the concat operation.\n",
      "  df_all = pd.concat([csv_to_df(obj.key) for obj in objects], ignore_index=True)\n"
     ]
    }
   ],
   "source": [
    "def csv_to_df(filename):\n",
    "    csv_obj = bucket.Object(key=filename).get().get('Body').read().decode('utf-8')\n",
    "    data = StringIO(csv_obj)\n",
    "    df = pd.read_csv(data, delimiter=',')\n",
    "    return df\n",
    "df_all = pd.concat([csv_to_df(obj.key) for obj in objects], ignore_index=True)"
   ]
  },
  {
   "cell_type": "code",
   "execution_count": 8,
   "id": "6d054a7a",
   "metadata": {},
   "outputs": [],
   "source": [
    "df_all = df_all.loc[:, columns]"
   ]
  },
  {
   "cell_type": "code",
   "execution_count": 9,
   "id": "b3ad4181",
   "metadata": {},
   "outputs": [],
   "source": [
    "df_all.dropna(inplace=True)"
   ]
  },
  {
   "cell_type": "markdown",
   "id": "9918516c",
   "metadata": {},
   "source": [
    "## Get opening price per ISIN and day"
   ]
  },
  {
   "cell_type": "code",
   "execution_count": 10,
   "id": "8d20a192",
   "metadata": {},
   "outputs": [],
   "source": [
    "df_all['opening_price'] = df_all.sort_values(by=['Time']).groupby(['ISIN', 'Date'])['StartPrice'].transform('first')"
   ]
  },
  {
   "cell_type": "markdown",
   "id": "20f6f2b6",
   "metadata": {},
   "source": [
    "## Get closing price per ISIN and day"
   ]
  },
  {
   "cell_type": "code",
   "execution_count": 11,
   "id": "90bbfeac",
   "metadata": {},
   "outputs": [],
   "source": [
    "df_all['closing_price'] = df_all.sort_values(by=['Time']).groupby(['ISIN', 'Date'])['StartPrice'].transform('last')"
   ]
  },
  {
   "cell_type": "markdown",
   "id": "020dab61",
   "metadata": {},
   "source": [
    "## Aggregations"
   ]
  },
  {
   "cell_type": "code",
   "execution_count": 12,
   "id": "4dd73163",
   "metadata": {},
   "outputs": [],
   "source": [
    "df_all = df_all.groupby(['ISIN', 'Date'], as_index=False).agg(opening_price_eur=('opening_price', 'min'), closing_price_eur=('closing_price', 'min'), minimum_price_eur=('MinPrice', 'min'), maximum_price_eur=('MaxPrice', 'max'), daily_traded_volume=('TradedVolume', 'sum'))"
   ]
  },
  {
   "cell_type": "markdown",
   "id": "a92a5928",
   "metadata": {},
   "source": [
    "## Percent Change Prev Closing"
   ]
  },
  {
   "cell_type": "code",
   "execution_count": 13,
   "id": "e97de63a",
   "metadata": {},
   "outputs": [],
   "source": [
    "df_all['prev_closing_price'] = df_all.sort_values(by=['Date']).groupby(['ISIN'])['closing_price_eur'].shift(1)"
   ]
  },
  {
   "cell_type": "code",
   "execution_count": 14,
   "id": "1b113a90",
   "metadata": {},
   "outputs": [],
   "source": [
    "df_all['change_prev_closing_%'] = (df_all['closing_price_eur'] - df_all['prev_closing_price']) / df_all['prev_closing_price'] * 100"
   ]
  },
  {
   "cell_type": "code",
   "execution_count": 15,
   "id": "8663c18a",
   "metadata": {},
   "outputs": [],
   "source": [
    "df_all.drop(columns=['prev_closing_price'], inplace=True)"
   ]
  },
  {
   "cell_type": "code",
   "execution_count": 16,
   "id": "de84b712",
   "metadata": {},
   "outputs": [],
   "source": [
    "df_all = df_all.round(decimals=2)"
   ]
  },
  {
   "cell_type": "code",
   "execution_count": 17,
   "id": "1d106ae5",
   "metadata": {},
   "outputs": [],
   "source": [
    "df_all = df_all[df_all.Date >= arg_date]"
   ]
  },
  {
   "cell_type": "code",
   "execution_count": 18,
   "id": "988ab5ab-4c68-46dc-affb-b0c5fc2a75fa",
   "metadata": {},
   "outputs": [
    {
     "data": {
      "text/plain": [
       "'Ayush_daily_report20241005_162711.parquet'"
      ]
     },
     "execution_count": 18,
     "metadata": {},
     "output_type": "execute_result"
    }
   ],
   "source": [
    "key_gen"
   ]
  },
  {
   "cell_type": "markdown",
   "id": "a676f549",
   "metadata": {},
   "source": [
    "## Write to S3"
   ]
  },
  {
   "cell_type": "code",
   "execution_count": 19,
   "id": "18b42a57",
   "metadata": {},
   "outputs": [
    {
     "data": {
      "text/plain": [
       "s3.Object(bucket_name='ayush-5-oct-24', key='Ayush_daily_report20241005_162711.parquet')"
      ]
     },
     "execution_count": 19,
     "metadata": {},
     "output_type": "execute_result"
    }
   ],
   "source": [
    "out_buffer = BytesIO()\n",
    "df_all.to_parquet(out_buffer, index=False)\n",
    "bucket_target = s3.Bucket(trg_bucket)\n",
    "bucket_target.put_object(Body=out_buffer.getvalue(), Key=key_gen)"
   ]
  },
  {
   "cell_type": "markdown",
   "id": "3c2fe394",
   "metadata": {},
   "source": [
    "## Reading the uploaded file"
   ]
  },
  {
   "cell_type": "code",
   "execution_count": 20,
   "id": "9ac0c5de",
   "metadata": {},
   "outputs": [],
   "source": [
    "prq_obj = bucket_target.Object(key=key_gen).get().get('Body').read()\n",
    "data = BytesIO(prq_obj)\n",
    "df_report = pd.read_parquet(data)"
   ]
  },
  {
   "cell_type": "code",
   "execution_count": 21,
   "id": "2c007b4b",
   "metadata": {},
   "outputs": [
    {
     "data": {
      "text/html": [
       "<div>\n",
       "<style scoped>\n",
       "    .dataframe tbody tr th:only-of-type {\n",
       "        vertical-align: middle;\n",
       "    }\n",
       "\n",
       "    .dataframe tbody tr th {\n",
       "        vertical-align: top;\n",
       "    }\n",
       "\n",
       "    .dataframe thead th {\n",
       "        text-align: right;\n",
       "    }\n",
       "</style>\n",
       "<table border=\"1\" class=\"dataframe\">\n",
       "  <thead>\n",
       "    <tr style=\"text-align: right;\">\n",
       "      <th></th>\n",
       "      <th>ISIN</th>\n",
       "      <th>Date</th>\n",
       "      <th>opening_price_eur</th>\n",
       "      <th>closing_price_eur</th>\n",
       "      <th>minimum_price_eur</th>\n",
       "      <th>maximum_price_eur</th>\n",
       "      <th>daily_traded_volume</th>\n",
       "      <th>change_prev_closing_%</th>\n",
       "    </tr>\n",
       "  </thead>\n",
       "  <tbody>\n",
       "    <tr>\n",
       "      <th>0</th>\n",
       "      <td>AT000000STR1</td>\n",
       "      <td>2022-12-30</td>\n",
       "      <td>36.60</td>\n",
       "      <td>36.70</td>\n",
       "      <td>35.75</td>\n",
       "      <td>36.70</td>\n",
       "      <td>1773</td>\n",
       "      <td>0.0</td>\n",
       "    </tr>\n",
       "    <tr>\n",
       "      <th>1</th>\n",
       "      <td>AT000000STR1</td>\n",
       "      <td>2022-12-31</td>\n",
       "      <td>36.60</td>\n",
       "      <td>36.70</td>\n",
       "      <td>35.75</td>\n",
       "      <td>36.70</td>\n",
       "      <td>1773</td>\n",
       "      <td>0.0</td>\n",
       "    </tr>\n",
       "    <tr>\n",
       "      <th>2</th>\n",
       "      <td>AT00000FACC2</td>\n",
       "      <td>2022-12-30</td>\n",
       "      <td>8.05</td>\n",
       "      <td>8.57</td>\n",
       "      <td>7.87</td>\n",
       "      <td>8.57</td>\n",
       "      <td>10205</td>\n",
       "      <td>0.0</td>\n",
       "    </tr>\n",
       "    <tr>\n",
       "      <th>3</th>\n",
       "      <td>AT00000FACC2</td>\n",
       "      <td>2022-12-31</td>\n",
       "      <td>8.05</td>\n",
       "      <td>8.57</td>\n",
       "      <td>7.87</td>\n",
       "      <td>8.57</td>\n",
       "      <td>10205</td>\n",
       "      <td>0.0</td>\n",
       "    </tr>\n",
       "    <tr>\n",
       "      <th>4</th>\n",
       "      <td>AT0000606306</td>\n",
       "      <td>2022-12-30</td>\n",
       "      <td>14.51</td>\n",
       "      <td>15.00</td>\n",
       "      <td>13.65</td>\n",
       "      <td>15.28</td>\n",
       "      <td>107836</td>\n",
       "      <td>0.0</td>\n",
       "    </tr>\n",
       "    <tr>\n",
       "      <th>...</th>\n",
       "      <td>...</td>\n",
       "      <td>...</td>\n",
       "      <td>...</td>\n",
       "      <td>...</td>\n",
       "      <td>...</td>\n",
       "      <td>...</td>\n",
       "      <td>...</td>\n",
       "      <td>...</td>\n",
       "    </tr>\n",
       "    <tr>\n",
       "      <th>6459</th>\n",
       "      <td>XS2314660700</td>\n",
       "      <td>2022-12-31</td>\n",
       "      <td>22.26</td>\n",
       "      <td>21.92</td>\n",
       "      <td>21.92</td>\n",
       "      <td>22.28</td>\n",
       "      <td>0</td>\n",
       "      <td>0.0</td>\n",
       "    </tr>\n",
       "    <tr>\n",
       "      <th>6460</th>\n",
       "      <td>XS2376095068</td>\n",
       "      <td>2022-12-30</td>\n",
       "      <td>34.29</td>\n",
       "      <td>36.50</td>\n",
       "      <td>34.06</td>\n",
       "      <td>36.50</td>\n",
       "      <td>1000</td>\n",
       "      <td>0.0</td>\n",
       "    </tr>\n",
       "    <tr>\n",
       "      <th>6461</th>\n",
       "      <td>XS2376095068</td>\n",
       "      <td>2022-12-31</td>\n",
       "      <td>34.29</td>\n",
       "      <td>36.50</td>\n",
       "      <td>34.06</td>\n",
       "      <td>36.50</td>\n",
       "      <td>1000</td>\n",
       "      <td>0.0</td>\n",
       "    </tr>\n",
       "    <tr>\n",
       "      <th>6462</th>\n",
       "      <td>XS2434891219</td>\n",
       "      <td>2022-12-30</td>\n",
       "      <td>3.44</td>\n",
       "      <td>3.66</td>\n",
       "      <td>3.42</td>\n",
       "      <td>3.66</td>\n",
       "      <td>0</td>\n",
       "      <td>0.0</td>\n",
       "    </tr>\n",
       "    <tr>\n",
       "      <th>6463</th>\n",
       "      <td>XS2434891219</td>\n",
       "      <td>2022-12-31</td>\n",
       "      <td>3.44</td>\n",
       "      <td>3.66</td>\n",
       "      <td>3.42</td>\n",
       "      <td>3.66</td>\n",
       "      <td>0</td>\n",
       "      <td>0.0</td>\n",
       "    </tr>\n",
       "  </tbody>\n",
       "</table>\n",
       "<p>6464 rows × 8 columns</p>\n",
       "</div>"
      ],
      "text/plain": [
       "              ISIN        Date  opening_price_eur  closing_price_eur  \\\n",
       "0     AT000000STR1  2022-12-30              36.60              36.70   \n",
       "1     AT000000STR1  2022-12-31              36.60              36.70   \n",
       "2     AT00000FACC2  2022-12-30               8.05               8.57   \n",
       "3     AT00000FACC2  2022-12-31               8.05               8.57   \n",
       "4     AT0000606306  2022-12-30              14.51              15.00   \n",
       "...            ...         ...                ...                ...   \n",
       "6459  XS2314660700  2022-12-31              22.26              21.92   \n",
       "6460  XS2376095068  2022-12-30              34.29              36.50   \n",
       "6461  XS2376095068  2022-12-31              34.29              36.50   \n",
       "6462  XS2434891219  2022-12-30               3.44               3.66   \n",
       "6463  XS2434891219  2022-12-31               3.44               3.66   \n",
       "\n",
       "      minimum_price_eur  maximum_price_eur  daily_traded_volume  \\\n",
       "0                 35.75              36.70                 1773   \n",
       "1                 35.75              36.70                 1773   \n",
       "2                  7.87               8.57                10205   \n",
       "3                  7.87               8.57                10205   \n",
       "4                 13.65              15.28               107836   \n",
       "...                 ...                ...                  ...   \n",
       "6459              21.92              22.28                    0   \n",
       "6460              34.06              36.50                 1000   \n",
       "6461              34.06              36.50                 1000   \n",
       "6462               3.42               3.66                    0   \n",
       "6463               3.42               3.66                    0   \n",
       "\n",
       "      change_prev_closing_%  \n",
       "0                       0.0  \n",
       "1                       0.0  \n",
       "2                       0.0  \n",
       "3                       0.0  \n",
       "4                       0.0  \n",
       "...                     ...  \n",
       "6459                    0.0  \n",
       "6460                    0.0  \n",
       "6461                    0.0  \n",
       "6462                    0.0  \n",
       "6463                    0.0  \n",
       "\n",
       "[6464 rows x 8 columns]"
      ]
     },
     "execution_count": 21,
     "metadata": {},
     "output_type": "execute_result"
    }
   ],
   "source": [
    "df_report"
   ]
  },
  {
   "cell_type": "code",
   "execution_count": null,
   "id": "7670c187",
   "metadata": {},
   "outputs": [],
   "source": []
  }
 ],
 "metadata": {
  "kernelspec": {
   "display_name": "Python 3 (ipykernel)",
   "language": "python",
   "name": "python3"
  },
  "language_info": {
   "codemirror_mode": {
    "name": "ipython",
    "version": 3
   },
   "file_extension": ".py",
   "mimetype": "text/x-python",
   "name": "python",
   "nbconvert_exporter": "python",
   "pygments_lexer": "ipython3",
   "version": "3.12.7"
  }
 },
 "nbformat": 4,
 "nbformat_minor": 5
}
